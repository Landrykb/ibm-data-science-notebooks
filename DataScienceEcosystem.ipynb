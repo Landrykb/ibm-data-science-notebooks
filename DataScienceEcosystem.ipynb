{
 "cells": [
  {
   "cell_type": "markdown",
   "id": "8bfbd0ed-79ac-437a-b7b3-a5b39a1a4cda",
   "metadata": {},
   "source": [
    "# Data Science Tools and Ecosystem"
   ]
  },
  {
   "cell_type": "markdown",
   "id": "c2b2524a-00ad-4f22-9848-04029d8179f1",
   "metadata": {},
   "source": [
    "In this notebook, Data Science Tools and Ecosystem are summarized."
   ]
  },
  {
   "cell_type": "markdown",
   "id": "e5252715-f8a5-4522-935d-649fc292bf09",
   "metadata": {},
   "source": [
    "## Objectives:\n",
    "*  List popular languages for Data Science\n",
    "*  List popular Data Science Tools\n",
    "*  Complete some arithmetic calculations"
   ]
  },
  {
   "cell_type": "markdown",
   "id": "d57a054e-93d6-4f43-863b-447ffe74e548",
   "metadata": {},
   "source": [
    "Some of the popular languages that Data Scientists use are:\n",
    "1. Python\n",
    "2. R\n",
    "3. SQL"
   ]
  },
  {
   "cell_type": "markdown",
   "id": "14c5afcd-6c2b-45ed-b444-b62dc53b5236",
   "metadata": {},
   "source": [
    "Some of the commonly used libraries used by Data Scientists include:\n",
    "1. matplotlib\n",
    "2. numpy\n",
    "3. scikit learn"
   ]
  },
  {
   "cell_type": "markdown",
   "id": "0f49ab74-8ced-4a83-b1bb-7e6232b60aa3",
   "metadata": {},
   "source": [
    "|Data Science Tools |\n",
    "|-------------------|\n",
    "|Jupyter Notebook   |\n",
    "|RStudio            |\n",
    "|Apache Zeppelin    |\n",
    "\n",
    "| Data Science Tools          |\n",
    "|-----------------------------|\n",
    "| Jupyter Notebook            |\n",
    "| RStudio                     |\n",
    "| Apache Zeppelin             |"
   ]
  },
  {
   "cell_type": "markdown",
   "id": "58ebc646-ca6a-4ceb-a666-8cae95151ec9",
   "metadata": {},
   "source": [
    "### Below are a few examples of evaluating arithmetic expressions in Python"
   ]
  },
  {
   "cell_type": "code",
   "execution_count": 2,
   "id": "898163eb-2d5e-41ff-966b-e9ba599e60f4",
   "metadata": {},
   "outputs": [
    {
     "data": {
      "text/plain": [
       "17"
      ]
     },
     "execution_count": 2,
     "metadata": {},
     "output_type": "execute_result"
    }
   ],
   "source": [
    "(3*4)+5\n",
    "# This is a simple arithmetic expression to multiply then add integers"
   ]
  },
  {
   "cell_type": "code",
   "execution_count": 3,
   "id": "f375967f-2110-4465-8aa8-5f0e404262b6",
   "metadata": {},
   "outputs": [
    {
     "data": {
      "text/plain": [
       "3.3333333333333335"
      ]
     },
     "execution_count": 3,
     "metadata": {},
     "output_type": "execute_result"
    }
   ],
   "source": [
    "200/60\n",
    "# This will convert 200 minutes to hours by diving by 60"
   ]
  },
  {
   "cell_type": "markdown",
   "id": "65bc6905-0c4e-431c-8287-714b9a07d5dd",
   "metadata": {},
   "source": [
    "## Author\n",
    "Landry Kassa"
   ]
  },
  {
   "cell_type": "code",
   "execution_count": null,
   "id": "c4c1356f-3be2-48f4-a374-7212f4339fc5",
   "metadata": {},
   "outputs": [],
   "source": []
  }
 ],
 "metadata": {
  "kernelspec": {
   "display_name": "Python 3 (ipykernel)",
   "language": "python",
   "name": "python3"
  },
  "language_info": {
   "codemirror_mode": {
    "name": "ipython",
    "version": 3
   },
   "file_extension": ".py",
   "mimetype": "text/x-python",
   "name": "python",
   "nbconvert_exporter": "python",
   "pygments_lexer": "ipython3",
   "version": "3.12.8"
  }
 },
 "nbformat": 4,
 "nbformat_minor": 5
}
